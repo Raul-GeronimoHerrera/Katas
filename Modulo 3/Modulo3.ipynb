{
 "cells": [
  {
   "cell_type": "markdown",
   "metadata": {},
   "source": [
    "Ejercicio - Escribir declaraciones if, else, y elif"
   ]
  },
  {
   "cell_type": "code",
   "execution_count": 1,
   "metadata": {},
   "outputs": [
    {
     "name": "stdout",
     "output_type": "stream",
     "text": [
      "Cuidado, un asteroide se acerca a la tierra demasiado rapido\n"
     ]
    }
   ],
   "source": [
    "asteroide = 49\n",
    "if asteroide > 25:\n",
    "    print('Cuidado, un asteroide se acerca a la tierra demasiado rapido')\n",
    "else:\n",
    "    print('Todo normal')"
   ]
  },
  {
   "cell_type": "code",
   "execution_count": 2,
   "metadata": {},
   "outputs": [
    {
     "name": "stdout",
     "output_type": "stream",
     "text": [
      "Todo normal\n"
     ]
    }
   ],
   "source": [
    "asteroide = 19 \n",
    "if asteroide > 20:\n",
    "    print('Alerta, busquen un asteroide en el cielo')\n",
    "elif asteroide == 20:\n",
    "    print('Alerta, busquen un asteroide en el cielo')\n",
    "else:\n",
    "    print('Todo normal')"
   ]
  },
  {
   "cell_type": "markdown",
   "metadata": {},
   "source": [
    "Ejercicio: Uso de operadores and y or"
   ]
  },
  {
   "cell_type": "code",
   "execution_count": 3,
   "metadata": {},
   "outputs": [
    {
     "name": "stdout",
     "output_type": "stream",
     "text": [
      "Cuidado, un asteroide viene hacia la Tierra\n"
     ]
    }
   ],
   "source": [
    "velocidad = 56\n",
    "tamano = 100\n",
    "if velocidad > 25 and tamano > 25:\n",
    "    print('Cuidado, un asteroide viene hacia la Tierra')\n",
    "elif velocidad >= 20:\n",
    "    print('Hay una rayo de luz en el cielo')\n",
    "elif tamano < 25:\n",
    "    print('Todo normal')\n",
    "else:\n",
    "    print('Todo normal')"
   ]
  }
 ],
 "metadata": {
  "interpreter": {
   "hash": "a25b2d42e0fe57251b6ece2b75d30429fe26895efea1faac6949f166a7477be7"
  },
  "kernelspec": {
   "display_name": "Python 3.10.2 64-bit",
   "language": "python",
   "name": "python3"
  },
  "language_info": {
   "codemirror_mode": {
    "name": "ipython",
    "version": 3
   },
   "file_extension": ".py",
   "mimetype": "text/x-python",
   "name": "python",
   "nbconvert_exporter": "python",
   "pygments_lexer": "ipython3",
   "version": "3.10.2"
  },
  "orig_nbformat": 4
 },
 "nbformat": 4,
 "nbformat_minor": 2
}
