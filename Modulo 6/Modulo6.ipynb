{
  "cells": [
    {
      "cell_type": "markdown",
      "metadata": {},
      "source": [
        "Ejercicio1: Crear y usar listas de Python"
      ]
    },
    {
      "cell_type": "code",
      "execution_count": 1,
      "metadata": {},
      "outputs": [
        {
          "name": "stdout",
          "output_type": "stream",
          "text": [
            "Existen 8 planetas\n"
          ]
        }
      ],
      "source": [
        "planets = ['Mercurio', 'Venus', 'Tierra', 'Marte','Jupiter', 'Saturno', 'Urano', 'Neptuno' ]\n",
        "num_planetas = len(planets)\n",
        "print('Existen',num_planetas, 'planetas')"
      ]
    },
    {
      "cell_type": "markdown",
      "metadata": {},
      "source": [
        "Agrega a Plutón a la lista que creaste. Luego muestra tanto el número de planetas como el último planeta de la lista."
      ]
    },
    {
      "cell_type": "code",
      "execution_count": 2,
      "metadata": {},
      "outputs": [
        {
          "name": "stdout",
          "output_type": "stream",
          "text": [
            "Realmente existen 9 planetas\n",
            "El último planeta de la lista es  Pluton\n"
          ]
        }
      ],
      "source": [
        "planets.append('Pluton')\n",
        "num_planetas = len(planets)\n",
        "print('Realmente existen',num_planetas, 'planetas')\n",
        "print('El último planeta de la lista es ', planets[-1])"
      ]
    },
    {
      "cell_type": "markdown",
      "metadata": {},
      "source": [
        "Ejercicio 2: Trabajando con datos de una lista"
      ]
    },
    {
      "cell_type": "code",
      "execution_count": 3,
      "metadata": {},
      "outputs": [],
      "source": [
        "planets = ['Mercurio', 'Venus', 'Tierra', 'Marte','Jupiter', 'Saturno', 'Urano', 'Neptuno' ]"
      ]
    },
    {
      "cell_type": "markdown",
      "metadata": {},
      "source": [
        "Solicita al usuario el nombre de un planeta"
      ]
    },
    {
      "cell_type": "code",
      "execution_count": 4,
      "metadata": {},
      "outputs": [],
      "source": [
        "nombre_planeta = input('Ingresa el nombre de un planeta, por favor comienza con una letra mayuscula')"
      ]
    },
    {
      "cell_type": "markdown",
      "metadata": {},
      "source": [
        "Encuentra el planeta en la lista"
      ]
    },
    {
      "cell_type": "code",
      "execution_count": 5,
      "metadata": {},
      "outputs": [],
      "source": [
        "planeta_index = planets.index(nombre_planeta)"
      ]
    },
    {
      "cell_type": "markdown",
      "metadata": {},
      "source": [
        "Mostrar planetas más cercanos al sol que el que el usuario ingresó"
      ]
    },
    {
      "cell_type": "code",
      "execution_count": 6,
      "metadata": {},
      "outputs": [
        {
          "name": "stdout",
          "output_type": "stream",
          "text": [
            "Planetas más cercanos Tierra\n",
            "['Mercurio', 'Venus']\n"
          ]
        }
      ],
      "source": [
        "print('Planetas más cercanos ' + nombre_planeta)\n",
        "print(planets[0:planeta_index])"
      ]
    },
    {
      "cell_type": "markdown",
      "metadata": {},
      "source": [
        "Mostrar planetas más alejados del sol que el que el usuario ingresó"
      ]
    },
    {
      "cell_type": "code",
      "execution_count": 7,
      "metadata": {},
      "outputs": [
        {
          "name": "stdout",
          "output_type": "stream",
          "text": [
            "Planetas más alejados Tierra\n",
            "['Marte', 'Jupiter', 'Saturno', 'Urano', 'Neptuno']\n"
          ]
        }
      ],
      "source": [
        "print('Planetas más alejados ' + nombre_planeta)\n",
        "print(planets[planeta_index + 1:])"
      ]
    }
  ],
  "metadata": {
    "interpreter": {
      "hash": "a25b2d42e0fe57251b6ece2b75d30429fe26895efea1faac6949f166a7477be7"
    },
    "kernelspec": {
      "display_name": "Python 3.10.2 64-bit",
      "language": "python",
      "name": "python3"
    },
    "language_info": {
      "codemirror_mode": {
        "name": "ipython",
        "version": 3
      },
      "file_extension": ".py",
      "mimetype": "text/x-python",
      "name": "python",
      "nbconvert_exporter": "python",
      "pygments_lexer": "ipython3",
      "version": "3.10.2"
    },
    "orig_nbformat": 4
  },
  "nbformat": 4,
  "nbformat_minor": 2
}
