{
 "cells": [
  {
   "cell_type": "markdown",
   "metadata": {},
   "source": [
    "Ejercicio: Uso de funciones en Python"
   ]
  },
  {
   "cell_type": "code",
   "execution_count": 1,
   "metadata": {},
   "outputs": [],
   "source": [
    "## Función para leer 3 tanques de combustible y muestre el promedio\n",
    "def lectura(combus1, combus2, combus3):\n",
    "    promedio = (combus1 + combus2 + combus3) / 3\n",
    "    return f\"\"\"Informe:\n",
    "    Total de promedio: {promedio}%\n",
    "    combustible 1: {combus1}%\n",
    "    combustible 2: {combus2}%\n",
    "    combustible 3: {combus3}% \n",
    "    \"\"\""
   ]
  },
  {
   "cell_type": "code",
   "execution_count": 2,
   "metadata": {},
   "outputs": [
    {
     "name": "stdout",
     "output_type": "stream",
     "text": [
      "Informe:\n",
      "    Total de promedio: 60.0%\n",
      "    combustible 1: 50%\n",
      "    combustible 2: 60%\n",
      "    combustible 3: 70% \n",
      "    \n"
     ]
    }
   ],
   "source": [
    "# Llamamos a la función que genera el reporte print(funcion(tanque1, tanque2, tanque3))\n",
    "print(lectura(50, 60, 70))"
   ]
  },
  {
   "cell_type": "code",
   "execution_count": 3,
   "metadata": {},
   "outputs": [
    {
     "data": {
      "text/plain": [
       "60.333333333333336"
      ]
     },
     "execution_count": 3,
     "metadata": {},
     "output_type": "execute_result"
    }
   ],
   "source": [
    "# Función promedio \n",
    "def promedio(values):\n",
    "    total = sum(values)\n",
    "    num = len(values)\n",
    "    return total / num\n",
    "\n",
    "\n",
    "promedio([20, 73, 88]) "
   ]
  },
  {
   "cell_type": "code",
   "execution_count": 4,
   "metadata": {},
   "outputs": [],
   "source": [
    "#Actualizamos la función\n",
    "def lectura(combus1, combus2, combus3):\n",
    "    return f\"\"\"Informe:\n",
    "    Total de promedio:{promedio([combus1 + combus2 + combus3])}%\n",
    "    combustible 1: {combus1}%\n",
    "    combustible 2: {combus2}%\n",
    "    combustible 3: {combus3}% \n",
    "    \"\"\""
   ]
  },
  {
   "cell_type": "code",
   "execution_count": 5,
   "metadata": {},
   "outputs": [
    {
     "name": "stdout",
     "output_type": "stream",
     "text": [
      "Informe:\n",
      "    Total de promedio:148.0%\n",
      "    combustible 1: 33%\n",
      "    combustible 2: 16%\n",
      "    combustible 3: 99% \n",
      "    \n"
     ]
    }
   ],
   "source": [
    "print(lectura(33, 16, 99))"
   ]
  },
  {
   "cell_type": "markdown",
   "metadata": {},
   "source": [
    "Ejercicio 2: Trabajo con argumentos de palabra clave"
   ]
  },
  {
   "cell_type": "code",
   "execution_count": 6,
   "metadata": {},
   "outputs": [
    {
     "name": "stdout",
     "output_type": "stream",
     "text": [
      "Informe:\n",
      "    Misión a: Marte\n",
      "    Tiempo de viaje total: 74 días\n",
      "    Combustible total restante: 107000 \n",
      "    \n"
     ]
    }
   ],
   "source": [
    "# Función con un informe preciso de la misión. Considera hora de prelanzamiento, tiempo de vuelo, destino, tanque externo y tanque interno\n",
    "def informe(hora_prelanzamiento, tiempo_vuelo, destino, tanque_externo, tanque_interno ):\n",
    "    return f\"\"\"Informe:\n",
    "    Misión a: {destino}\n",
    "    Tiempo de viaje total: {hora_prelanzamiento + tiempo_vuelo} días\n",
    "    Combustible total restante: {tanque_externo + tanque_interno} \n",
    "    \"\"\"\n",
    "\n",
    "print(informe(15, 59, \"Marte\", 50000, 57000))"
   ]
  },
  {
   "cell_type": "code",
   "execution_count": 7,
   "metadata": {},
   "outputs": [
    {
     "name": "stdout",
     "output_type": "stream",
     "text": [
      "Informe:\n",
      "    Misión a: Marte\n",
      "    Tiempo de viaje total: 90 minutos\n",
      "    Combustible total restante: 107000 \n",
      "    main tanque --> 50000 galones left\n",
      "external tanque --> 57000 galones left\n",
      "\n"
     ]
    }
   ],
   "source": [
    "# Escribe tu nueva función\n",
    "def informe(destino, *minutes, **fuel_reservoirs):\n",
    "    reporte = f\"\"\"Informe:\n",
    "    Misión a: {destino}\n",
    "    Tiempo de viaje total: {sum(minutes)} minutos\n",
    "    Combustible total restante: {sum(fuel_reservoirs.values())} \n",
    "    \"\"\"\n",
    "\n",
    "    for tanque, galones in fuel_reservoirs.items():\n",
    "        reporte += f\"{tanque} tanque --> {galones} galones left\\n\"\n",
    "    return reporte\n",
    "\n",
    "print(informe(\"Marte\", 10, 47, 33, main=50000, external= 57000))"
   ]
  }
 ],
 "metadata": {
  "interpreter": {
   "hash": "a25b2d42e0fe57251b6ece2b75d30429fe26895efea1faac6949f166a7477be7"
  },
  "kernelspec": {
   "display_name": "Python 3.10.2 64-bit",
   "language": "python",
   "name": "python3"
  },
  "language_info": {
   "codemirror_mode": {
    "name": "ipython",
    "version": 3
   },
   "file_extension": ".py",
   "mimetype": "text/x-python",
   "name": "python",
   "nbconvert_exporter": "python",
   "pygments_lexer": "ipython3",
   "version": "3.10.2"
  },
  "orig_nbformat": 4
 },
 "nbformat": 4,
 "nbformat_minor": 2
}
